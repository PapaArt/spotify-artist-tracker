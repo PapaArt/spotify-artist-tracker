{
 "cells": [
  {
   "cell_type": "markdown",
   "metadata": {},
   "source": [
    "## Authentication to Spotify API"
   ]
  },
  {
   "cell_type": "markdown",
   "metadata": {},
   "source": [
    "### Imports"
   ]
  },
  {
   "cell_type": "code",
   "execution_count": 1,
   "metadata": {},
   "outputs": [],
   "source": [
    "import pandas as pd\n",
    "import requests\n",
    "import base64\n",
    "import json\n",
    "import csv\n",
    "import os"
   ]
  },
  {
   "cell_type": "markdown",
   "metadata": {},
   "source": [
    "### Request for access token"
   ]
  },
  {
   "cell_type": "code",
   "execution_count": 2,
   "metadata": {},
   "outputs": [],
   "source": [
    "client_id = os.getenv(\"CLIENT_ID\")\n",
    "client_secret = os.getenv(\"CLIENT_SECRET\")"
   ]
  },
  {
   "cell_type": "code",
   "execution_count": 3,
   "metadata": {},
   "outputs": [],
   "source": [
    "auth_string = client_id + \":\" + client_secret\n",
    "auth_bytes = auth_string.encode(\"utf-8\")\n",
    "auth_base64 = str(base64.b64encode(auth_bytes), \"utf-8\")"
   ]
  },
  {
   "cell_type": "code",
   "execution_count": 4,
   "metadata": {},
   "outputs": [],
   "source": [
    "url = \"https://accounts.spotify.com/api/token\"\n",
    "headers = {\n",
    "    \"Authorization\": \"Basic \" + auth_base64,\n",
    "    \"Content-type\": \"application/x-www-form-urlencoded\"\n",
    "}\n",
    "data = {\"grant_type\": \"client_credentials\"}"
   ]
  },
  {
   "cell_type": "code",
   "execution_count": 5,
   "metadata": {},
   "outputs": [
    {
     "data": {
      "text/plain": [
       "<Response [200]>"
      ]
     },
     "execution_count": 5,
     "metadata": {},
     "output_type": "execute_result"
    }
   ],
   "source": [
    "result = requests.post(url, headers=headers, data=data)\n",
    "result"
   ]
  },
  {
   "cell_type": "code",
   "execution_count": 6,
   "metadata": {},
   "outputs": [
    {
     "data": {
      "text/plain": [
       "'BQBlQD1EefCHzi8gFRJmtpjTaovGdkgejAwK1WEYRJrnKDjRbYwBMhyOQtrBGRQRKwyGk9BtNEJntOhAwS-oFibqf_b7I1HnjDmvp_YkwoZAyP8GMNM'"
      ]
     },
     "execution_count": 6,
     "metadata": {},
     "output_type": "execute_result"
    }
   ],
   "source": [
    "json_result = json.loads(result.content)\n",
    "token = json_result[\"access_token\"]\n",
    "token"
   ]
  },
  {
   "cell_type": "code",
   "execution_count": 8,
   "metadata": {},
   "outputs": [],
   "source": [
    "def get_auth_header(token):\n",
    "    return {\"Authorization\": \"Bearer \" + token}\n",
    "# get_auth_header(token)"
   ]
  },
  {
   "cell_type": "markdown",
   "metadata": {},
   "source": [
    "### Searching for artist"
   ]
  },
  {
   "cell_type": "code",
   "execution_count": 7,
   "metadata": {},
   "outputs": [],
   "source": [
    "def search_artist(token, artist_name):\n",
    "    search_url = \"https://api.spotify.com/v1/search\"\n",
    "    headers = get_auth_header(token)\n",
    "    query = f\"?q={artist_name}&type=artist&limit=2\"\n",
    "    \n",
    "    query_url = search_url + query\n",
    "    result = requests.get(query_url, headers=headers)\n",
    "    json_result = json.loads(result.content)\n",
    "    \n",
    "    return json_result\n"
   ]
  },
  {
   "cell_type": "code",
   "execution_count": 70,
   "metadata": {},
   "outputs": [],
   "source": [
    "# search_artist(token, \"Kanye West\")"
   ]
  },
  {
   "cell_type": "markdown",
   "metadata": {},
   "source": [
    "### Getting the id"
   ]
  },
  {
   "cell_type": "code",
   "execution_count": 9,
   "metadata": {},
   "outputs": [],
   "source": [
    "def get_artist_id(token, artist_name):\n",
    "    search_url = \"https://api.spotify.com/v1/search\"\n",
    "    headers = get_auth_header(token)\n",
    "    query = f\"?q={artist_name}&type=artist&limit=2\"\n",
    "    \n",
    "    query_url = search_url + query\n",
    "    result = requests.get(query_url, headers=headers)\n",
    "    json_result = json.loads(result.content)[\"artists\"][\"items\"]\n",
    "    \n",
    "    artist_id = json_result[0]\n",
    "    \n",
    "    if len(json_result) == 0:\n",
    "        return f\"No artists with this name\"\n",
    "    \n",
    "    return artist_id[\"id\"]"
   ]
  },
  {
   "cell_type": "code",
   "execution_count": 10,
   "metadata": {},
   "outputs": [
    {
     "data": {
      "text/plain": [
       "'5K4W6rqBFWDnAN6FQUkS6x'"
      ]
     },
     "execution_count": 10,
     "metadata": {},
     "output_type": "execute_result"
    }
   ],
   "source": [
    "get_artist_id(token, \"Kanye West\")"
   ]
  },
  {
   "cell_type": "markdown",
   "metadata": {},
   "source": [
    "### Getting the artist name"
   ]
  },
  {
   "cell_type": "code",
   "execution_count": 11,
   "metadata": {},
   "outputs": [],
   "source": [
    "def get_artist_name(token, id):\n",
    "    search_url = f\"https://api.spotify.com/v1/artists/{id}\"\n",
    "    headers = get_auth_header(token)\n",
    "    \n",
    "    result = requests.get(search_url, headers=headers)\n",
    "    json_result = json.loads(result.content)[\"name\"]\n",
    "    \n",
    "    return json_result"
   ]
  },
  {
   "cell_type": "code",
   "execution_count": 12,
   "metadata": {},
   "outputs": [
    {
     "data": {
      "text/plain": [
       "'Kanye West'"
      ]
     },
     "execution_count": 12,
     "metadata": {},
     "output_type": "execute_result"
    }
   ],
   "source": [
    "test = get_artist_name(token, \"5K4W6rqBFWDnAN6FQUkS6x\")\n",
    "test"
   ]
  },
  {
   "cell_type": "markdown",
   "metadata": {},
   "source": [
    "### Getting the related artists"
   ]
  },
  {
   "cell_type": "code",
   "execution_count": 13,
   "metadata": {},
   "outputs": [],
   "source": [
    "def get_related_artists(token, id):\n",
    "    artists_url = f\"https://api.spotify.com/v1/artists/{id}/related-artists\"\n",
    "    headers = get_auth_header(token)\n",
    "    \n",
    "    result = requests.get(artists_url, headers=headers)\n",
    "    json_result = json.loads(result.content)[\"artists\"]\n",
    "    \n",
    "    return json_result"
   ]
  },
  {
   "cell_type": "code",
   "execution_count": 14,
   "metadata": {},
   "outputs": [],
   "source": [
    "artists = get_related_artists(token, \"3nFkdlSjzX9mRTtwJOzDYB\")\n",
    "# artists\n",
    "# len(artists)"
   ]
  },
  {
   "cell_type": "markdown",
   "metadata": {},
   "source": [
    "### Automating the process"
   ]
  },
  {
   "cell_type": "code",
   "execution_count": 15,
   "metadata": {},
   "outputs": [],
   "source": [
    "related_artist = {}\n",
    "related_artist[\"main_artist\"] = []\n",
    "related_artist[\"id\"] = []\n",
    "related_artist[\"name\"] = []\n",
    "related_artist[\"popularity\"] = []\n",
    "related_artist[\"genres\"] = []"
   ]
  },
  {
   "cell_type": "code",
   "execution_count": 16,
   "metadata": {},
   "outputs": [],
   "source": [
    "def collect_related_artists(token, artist_name):\n",
    "    related_artist[\"main_artist\"].append(artist_name)\n",
    "    main_artist_id = get_artist_id(token, artist_name)\n",
    "    artists = get_related_artists(token, main_artist_id)\n",
    "    \n",
    "    for i in range(len(artists)):\n",
    "        related_artist[\"id\"].append(artists[i][\"id\"])\n",
    "        related_artist[\"name\"].append(artists[i][\"name\"])\n",
    "        related_artist[\"popularity\"].append(artists[i][\"popularity\"])\n",
    "        related_artist[\"genres\"].append(artists[i][\"genres\"])\n",
    "    \n",
    "    data_trash = related_artist.copy()\n",
    "    aux = 0\n",
    "    while (len(data_trash[\"id\"]) != 0):\n",
    "        related_artist[\"main_artist\"].append(get_artist_name(token, artists[aux][\"id\"]))\n",
    "        # print(aux)\n",
    "        side_artists = get_related_artists(token, artists[aux][\"id\"])\n",
    "        \n",
    "        for i in range(len(side_artists)):\n",
    "            related_artist[\"id\"].append(side_artists[i][\"id\"])\n",
    "            related_artist[\"name\"].append(side_artists[i][\"name\"])\n",
    "            related_artist[\"popularity\"].append(side_artists[i][\"popularity\"])\n",
    "            related_artist[\"genres\"].append(side_artists[i][\"genres\"])\n",
    "        \n",
    "        data_trash[\"id\"].pop(0)\n",
    "        aux += 1\n",
    "        if aux == 20:\n",
    "            return related_artist\n",
    "    \n",
    "        "
   ]
  },
  {
   "cell_type": "code",
   "execution_count": 17,
   "metadata": {},
   "outputs": [],
   "source": [
    "data = collect_related_artists(token, \"Kanye West\")"
   ]
  },
  {
   "cell_type": "code",
   "execution_count": 46,
   "metadata": {},
   "outputs": [
    {
     "data": {
      "text/plain": [
       "81"
      ]
     },
     "execution_count": 46,
     "metadata": {},
     "output_type": "execute_result"
    }
   ],
   "source": [
    "data[\"popularity\"][0]"
   ]
  },
  {
   "cell_type": "code",
   "execution_count": 38,
   "metadata": {},
   "outputs": [],
   "source": [
    "def generating_csv(file_name, dictionary):\n",
    "    with open(f\"../data/{file_name}.csv\", mode=\"w\", newline=\"\") as csv_file:\n",
    "        csv_writer = csv.writer(csv_file)\n",
    "        \n",
    "        keys = dictionary.keys()\n",
    "        \n",
    "        csv_writer.writerow(keys)\n",
    "        \n",
    "        for i in range(len(dictionary[\"main_artist\"])):\n",
    "            line = [dictionary[key][i] for key in keys]\n",
    "            csv_writer.writerow(line)\n",
    "        \n",
    "        return \"ok\""
   ]
  },
  {
   "cell_type": "code",
   "execution_count": 39,
   "metadata": {},
   "outputs": [
    {
     "data": {
      "text/plain": [
       "'ok'"
      ]
     },
     "execution_count": 39,
     "metadata": {},
     "output_type": "execute_result"
    }
   ],
   "source": [
    "generating_csv(\"teste\", data)"
   ]
  },
  {
   "cell_type": "code",
   "execution_count": null,
   "metadata": {},
   "outputs": [],
   "source": []
  }
 ],
 "metadata": {
  "kernelspec": {
   "display_name": "Python 3",
   "language": "python",
   "name": "python3"
  },
  "language_info": {
   "codemirror_mode": {
    "name": "ipython",
    "version": 3
   },
   "file_extension": ".py",
   "mimetype": "text/x-python",
   "name": "python",
   "nbconvert_exporter": "python",
   "pygments_lexer": "ipython3",
   "version": "3.9.16"
  }
 },
 "nbformat": 4,
 "nbformat_minor": 2
}
