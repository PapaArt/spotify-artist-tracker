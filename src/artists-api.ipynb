{
 "cells": [
  {
   "cell_type": "markdown",
   "metadata": {},
   "source": [
    "## Authentication to Spotify API"
   ]
  },
  {
   "cell_type": "markdown",
   "metadata": {},
   "source": [
    "### Imports"
   ]
  },
  {
   "cell_type": "code",
   "execution_count": 1,
   "metadata": {},
   "outputs": [],
   "source": [
    "import pandas as pd\n",
    "import requests\n",
    "import base64\n",
    "import json\n",
    "import csv\n",
    "import os"
   ]
  },
  {
   "cell_type": "markdown",
   "metadata": {},
   "source": [
    "### Request for access token"
   ]
  },
  {
   "cell_type": "code",
   "execution_count": 2,
   "metadata": {},
   "outputs": [],
   "source": [
    "client_id = os.getenv(\"CLIENT_ID\")\n",
    "client_secret = os.getenv(\"CLIENT_SECRET\")"
   ]
  },
  {
   "cell_type": "code",
   "execution_count": 3,
   "metadata": {},
   "outputs": [],
   "source": [
    "auth_string = client_id + \":\" + client_secret\n",
    "auth_bytes = auth_string.encode(\"utf-8\")\n",
    "auth_base64 = str(base64.b64encode(auth_bytes), \"utf-8\")"
   ]
  },
  {
   "cell_type": "code",
   "execution_count": 4,
   "metadata": {},
   "outputs": [],
   "source": [
    "url = \"https://accounts.spotify.com/api/token\"\n",
    "headers = {\n",
    "    \"Authorization\": \"Basic \" + auth_base64,\n",
    "    \"Content-type\": \"application/x-www-form-urlencoded\"\n",
    "}\n",
    "data = {\"grant_type\": \"client_credentials\"}"
   ]
  },
  {
   "cell_type": "code",
   "execution_count": 5,
   "metadata": {},
   "outputs": [
    {
     "data": {
      "text/plain": [
       "<Response [200]>"
      ]
     },
     "execution_count": 5,
     "metadata": {},
     "output_type": "execute_result"
    }
   ],
   "source": [
    "result = requests.post(url, headers=headers, data=data)\n",
    "result"
   ]
  },
  {
   "cell_type": "code",
   "execution_count": 6,
   "metadata": {},
   "outputs": [
    {
     "data": {
      "text/plain": [
       "'BQBaTqbqQOqtDQo000fxbUtHYWOCIF9K9_w7-p496E0nalmlxYZBn5z9rS3JW3qhpD_Oy8Tcj74GdXdzpwv6R3SqFt0F7tlrdmyLHgefRdqVxpIUD4o'"
      ]
     },
     "execution_count": 6,
     "metadata": {},
     "output_type": "execute_result"
    }
   ],
   "source": [
    "json_result = json.loads(result.content)\n",
    "token = json_result[\"access_token\"]\n",
    "token"
   ]
  },
  {
   "cell_type": "code",
   "execution_count": 7,
   "metadata": {},
   "outputs": [],
   "source": [
    "def get_auth_header(token):\n",
    "    return {\"Authorization\": \"Bearer \" + token}\n",
    "# get_auth_header(token)"
   ]
  },
  {
   "cell_type": "markdown",
   "metadata": {},
   "source": [
    "### Searching for artist"
   ]
  },
  {
   "cell_type": "code",
   "execution_count": 8,
   "metadata": {},
   "outputs": [],
   "source": [
    "def search_artist(token, artist_name):\n",
    "    search_url = \"https://api.spotify.com/v1/search\"\n",
    "    headers = get_auth_header(token)\n",
    "    query = f\"?q={artist_name}&type=artist&limit=2\"\n",
    "    \n",
    "    query_url = search_url + query\n",
    "    result = requests.get(query_url, headers=headers)\n",
    "    json_result = json.loads(result.content)\n",
    "    \n",
    "    return json_result\n"
   ]
  },
  {
   "cell_type": "code",
   "execution_count": 9,
   "metadata": {},
   "outputs": [],
   "source": [
    "# search_artist(token, \"Kanye West\")"
   ]
  },
  {
   "cell_type": "markdown",
   "metadata": {},
   "source": [
    "### Getting the id"
   ]
  },
  {
   "cell_type": "code",
   "execution_count": 10,
   "metadata": {},
   "outputs": [],
   "source": [
    "def get_artist_id(token, artist_name):\n",
    "    search_url = \"https://api.spotify.com/v1/search\"\n",
    "    headers = get_auth_header(token)\n",
    "    query = f\"?q={artist_name}&type=artist&limit=2\"\n",
    "    \n",
    "    query_url = search_url + query\n",
    "    result = requests.get(query_url, headers=headers)\n",
    "    json_result = json.loads(result.content)[\"artists\"][\"items\"]\n",
    "    \n",
    "    artist_id = json_result[0]\n",
    "    \n",
    "    if len(json_result) == 0:\n",
    "        return f\"No artists with this name\"\n",
    "    \n",
    "    return artist_id[\"id\"]"
   ]
  },
  {
   "cell_type": "code",
   "execution_count": 11,
   "metadata": {},
   "outputs": [
    {
     "data": {
      "text/plain": [
       "'5K4W6rqBFWDnAN6FQUkS6x'"
      ]
     },
     "execution_count": 11,
     "metadata": {},
     "output_type": "execute_result"
    }
   ],
   "source": [
    "get_artist_id(token, \"Kanye West\")"
   ]
  },
  {
   "cell_type": "markdown",
   "metadata": {},
   "source": [
    "### Getting the artist name"
   ]
  },
  {
   "cell_type": "code",
   "execution_count": 12,
   "metadata": {},
   "outputs": [],
   "source": [
    "def get_artist_name(token, id):\n",
    "    search_url = f\"https://api.spotify.com/v1/artists/{id}\"\n",
    "    headers = get_auth_header(token)\n",
    "    \n",
    "    result = requests.get(search_url, headers=headers)\n",
    "    json_result = json.loads(result.content)[\"name\"]\n",
    "    \n",
    "    return json_result"
   ]
  },
  {
   "cell_type": "code",
   "execution_count": 13,
   "metadata": {},
   "outputs": [
    {
     "data": {
      "text/plain": [
       "'Kanye West'"
      ]
     },
     "execution_count": 13,
     "metadata": {},
     "output_type": "execute_result"
    }
   ],
   "source": [
    "test = get_artist_name(token, \"5K4W6rqBFWDnAN6FQUkS6x\")\n",
    "test"
   ]
  },
  {
   "cell_type": "markdown",
   "metadata": {},
   "source": [
    "### Getting the related artists"
   ]
  },
  {
   "cell_type": "code",
   "execution_count": 14,
   "metadata": {},
   "outputs": [],
   "source": [
    "def get_related_artists(token, id):\n",
    "    artists_url = f\"https://api.spotify.com/v1/artists/{id}/related-artists\"\n",
    "    headers = get_auth_header(token)\n",
    "    \n",
    "    result = requests.get(artists_url, headers=headers)\n",
    "    json_result = json.loads(result.content)[\"artists\"]\n",
    "    \n",
    "    return json_result"
   ]
  },
  {
   "cell_type": "code",
   "execution_count": 44,
   "metadata": {},
   "outputs": [
    {
     "data": {
      "text/plain": [
       "[{'external_urls': {'spotify': 'https://open.spotify.com/artist/20qISvAhX20dpIbOOzGK3q'},\n",
       "  'followers': {'href': None, 'total': 3482619},\n",
       "  'genres': ['conscious hip hop',\n",
       "   'east coast hip hop',\n",
       "   'gangster rap',\n",
       "   'hardcore hip hop',\n",
       "   'hip hop',\n",
       "   'queens hip hop',\n",
       "   'rap'],\n",
       "  'href': 'https://api.spotify.com/v1/artists/20qISvAhX20dpIbOOzGK3q',\n",
       "  'id': '20qISvAhX20dpIbOOzGK3q',\n",
       "  'images': [{'height': 640,\n",
       "    'url': 'https://i.scdn.co/image/ab6761610000e5eb153198caeef9e3bda92f9285',\n",
       "    'width': 640},\n",
       "   {'height': 320,\n",
       "    'url': 'https://i.scdn.co/image/ab67616100005174153198caeef9e3bda92f9285',\n",
       "    'width': 320},\n",
       "   {'height': 160,\n",
       "    'url': 'https://i.scdn.co/image/ab6761610000f178153198caeef9e3bda92f9285',\n",
       "    'width': 160}],\n",
       "  'name': 'Nas',\n",
       "  'popularity': 71,\n",
       "  'type': 'artist',\n",
       "  'uri': 'spotify:artist:20qISvAhX20dpIbOOzGK3q'},\n",
       " {'external_urls': {'spotify': 'https://open.spotify.com/artist/0ONHkAv9pCAFxb0zJwDNTy'},\n",
       "  'followers': {'href': None, 'total': 2877460},\n",
       "  'genres': ['gangster rap',\n",
       "   'hip hop',\n",
       "   'pop rap',\n",
       "   'rap',\n",
       "   'southern hip hop',\n",
       "   'trap',\n",
       "   'virginia hip hop'],\n",
       "  'href': 'https://api.spotify.com/v1/artists/0ONHkAv9pCAFxb0zJwDNTy',\n",
       "  'id': '0ONHkAv9pCAFxb0zJwDNTy',\n",
       "  'images': [{'height': 640,\n",
       "    'url': 'https://i.scdn.co/image/ab6761610000e5ebc5b88a3924d8318f25f20594',\n",
       "    'width': 640},\n",
       "   {'height': 320,\n",
       "    'url': 'https://i.scdn.co/image/ab67616100005174c5b88a3924d8318f25f20594',\n",
       "    'width': 320},\n",
       "   {'height': 160,\n",
       "    'url': 'https://i.scdn.co/image/ab6761610000f178c5b88a3924d8318f25f20594',\n",
       "    'width': 160}],\n",
       "  'name': 'Pusha T',\n",
       "  'popularity': 69,\n",
       "  'type': 'artist',\n",
       "  'uri': 'spotify:artist:0ONHkAv9pCAFxb0zJwDNTy'},\n",
       " {'external_urls': {'spotify': 'https://open.spotify.com/artist/4OBJLual30L7gRl5UkeRcT'},\n",
       "  'followers': {'href': None, 'total': 4694653},\n",
       "  'genres': ['atl hip hop',\n",
       "   'dirty south rap',\n",
       "   'gangster rap',\n",
       "   'hip hop',\n",
       "   'pop rap',\n",
       "   'rap',\n",
       "   'southern hip hop',\n",
       "   'trap'],\n",
       "  'href': 'https://api.spotify.com/v1/artists/4OBJLual30L7gRl5UkeRcT',\n",
       "  'id': '4OBJLual30L7gRl5UkeRcT',\n",
       "  'images': [{'height': 640,\n",
       "    'url': 'https://i.scdn.co/image/ab6761610000e5eb12057d342f33c61b3768f2bc',\n",
       "    'width': 640},\n",
       "   {'height': 320,\n",
       "    'url': 'https://i.scdn.co/image/ab6761610000517412057d342f33c61b3768f2bc',\n",
       "    'width': 320},\n",
       "   {'height': 160,\n",
       "    'url': 'https://i.scdn.co/image/ab6761610000f17812057d342f33c61b3768f2bc',\n",
       "    'width': 160}],\n",
       "  'name': 'T.I.',\n",
       "  'popularity': 71,\n",
       "  'type': 'artist',\n",
       "  'uri': 'spotify:artist:4OBJLual30L7gRl5UkeRcT'},\n",
       " {'external_urls': {'spotify': 'https://open.spotify.com/artist/1sBkRIssrMs1AbVkOJbc7a'},\n",
       "  'followers': {'href': None, 'total': 7096837},\n",
       "  'genres': ['dirty south rap',\n",
       "   'gangster rap',\n",
       "   'hip hop',\n",
       "   'rap',\n",
       "   'southern hip hop',\n",
       "   'trap'],\n",
       "  'href': 'https://api.spotify.com/v1/artists/1sBkRIssrMs1AbVkOJbc7a',\n",
       "  'id': '1sBkRIssrMs1AbVkOJbc7a',\n",
       "  'images': [{'height': 640,\n",
       "    'url': 'https://i.scdn.co/image/ab6761610000e5eb8196a8109c28a8b8aca28fae',\n",
       "    'width': 640},\n",
       "   {'height': 320,\n",
       "    'url': 'https://i.scdn.co/image/ab676161000051748196a8109c28a8b8aca28fae',\n",
       "    'width': 320},\n",
       "   {'height': 160,\n",
       "    'url': 'https://i.scdn.co/image/ab6761610000f1788196a8109c28a8b8aca28fae',\n",
       "    'width': 160}],\n",
       "  'name': 'Rick Ross',\n",
       "  'popularity': 74,\n",
       "  'type': 'artist',\n",
       "  'uri': 'spotify:artist:1sBkRIssrMs1AbVkOJbc7a'},\n",
       " {'external_urls': {'spotify': 'https://open.spotify.com/artist/59wfkuBoNyhDMQGCljbUbA'},\n",
       "  'followers': {'href': None, 'total': 1589408},\n",
       "  'genres': ['dance pop',\n",
       "   'east coast hip hop',\n",
       "   'hip hop',\n",
       "   'hip pop',\n",
       "   'pop rap',\n",
       "   'rap',\n",
       "   'trap'],\n",
       "  'href': 'https://api.spotify.com/v1/artists/59wfkuBoNyhDMQGCljbUbA',\n",
       "  'id': '59wfkuBoNyhDMQGCljbUbA',\n",
       "  'images': [{'height': 640,\n",
       "    'url': 'https://i.scdn.co/image/ab6761610000e5eb5065f82653e9ad00fdcafa42',\n",
       "    'width': 640},\n",
       "   {'height': 320,\n",
       "    'url': 'https://i.scdn.co/image/ab676161000051745065f82653e9ad00fdcafa42',\n",
       "    'width': 320},\n",
       "   {'height': 160,\n",
       "    'url': 'https://i.scdn.co/image/ab6761610000f1785065f82653e9ad00fdcafa42',\n",
       "    'width': 160}],\n",
       "  'name': 'Diddy',\n",
       "  'popularity': 71,\n",
       "  'type': 'artist',\n",
       "  'uri': 'spotify:artist:59wfkuBoNyhDMQGCljbUbA'},\n",
       " {'external_urls': {'spotify': 'https://open.spotify.com/artist/5me0Irg2ANcsgc93uaYrpb'},\n",
       "  'followers': {'href': None, 'total': 9455675},\n",
       "  'genres': ['east coast hip hop',\n",
       "   'gangster rap',\n",
       "   'hardcore hip hop',\n",
       "   'hip hop',\n",
       "   'rap'],\n",
       "  'href': 'https://api.spotify.com/v1/artists/5me0Irg2ANcsgc93uaYrpb',\n",
       "  'id': '5me0Irg2ANcsgc93uaYrpb',\n",
       "  'images': [{'height': 1250,\n",
       "    'url': 'https://i.scdn.co/image/1b4858fbd24046a81cace5ee18d19c868262b91f',\n",
       "    'width': 1000},\n",
       "   {'height': 800,\n",
       "    'url': 'https://i.scdn.co/image/9bb42de208edcb69653a8e7951fa93b13f598cdd',\n",
       "    'width': 640},\n",
       "   {'height': 250,\n",
       "    'url': 'https://i.scdn.co/image/e56612ae56c9007e99ab36b83efd4faf6401260d',\n",
       "    'width': 200},\n",
       "   {'height': 80,\n",
       "    'url': 'https://i.scdn.co/image/fc074d287739cca12a89c76fd338ff7d4aa4acee',\n",
       "    'width': 64}],\n",
       "  'name': 'The Notorious B.I.G.',\n",
       "  'popularity': 74,\n",
       "  'type': 'artist',\n",
       "  'uri': 'spotify:artist:5me0Irg2ANcsgc93uaYrpb'},\n",
       " {'external_urls': {'spotify': 'https://open.spotify.com/artist/55Aa2cqylxrFIXC767Z865'},\n",
       "  'followers': {'href': None, 'total': 14174821},\n",
       "  'genres': ['hip hop', 'new orleans rap', 'pop rap', 'rap', 'trap'],\n",
       "  'href': 'https://api.spotify.com/v1/artists/55Aa2cqylxrFIXC767Z865',\n",
       "  'id': '55Aa2cqylxrFIXC767Z865',\n",
       "  'images': [{'height': 640,\n",
       "    'url': 'https://i.scdn.co/image/ab6761610000e5ebc1c08e541eae3cc82c6988c4',\n",
       "    'width': 640},\n",
       "   {'height': 320,\n",
       "    'url': 'https://i.scdn.co/image/ab67616100005174c1c08e541eae3cc82c6988c4',\n",
       "    'width': 320},\n",
       "   {'height': 160,\n",
       "    'url': 'https://i.scdn.co/image/ab6761610000f178c1c08e541eae3cc82c6988c4',\n",
       "    'width': 160}],\n",
       "  'name': 'Lil Wayne',\n",
       "  'popularity': 83,\n",
       "  'type': 'artist',\n",
       "  'uri': 'spotify:artist:55Aa2cqylxrFIXC767Z865'},\n",
       " {'external_urls': {'spotify': 'https://open.spotify.com/artist/3ipn9JLAPI5GUEo4y4jcoi'},\n",
       "  'followers': {'href': None, 'total': 2707061},\n",
       "  'genres': ['atl hip hop',\n",
       "   'dance pop',\n",
       "   'dirty south rap',\n",
       "   'hip hop',\n",
       "   'old school atlanta hip hop',\n",
       "   'pop rap',\n",
       "   'rap',\n",
       "   'southern hip hop',\n",
       "   'trap'],\n",
       "  'href': 'https://api.spotify.com/v1/artists/3ipn9JLAPI5GUEo4y4jcoi',\n",
       "  'id': '3ipn9JLAPI5GUEo4y4jcoi',\n",
       "  'images': [{'height': 667,\n",
       "    'url': 'https://i.scdn.co/image/adcc1cb654e89f2e404688ae0d1bbc942ce02e5d',\n",
       "    'width': 1000},\n",
       "   {'height': 427,\n",
       "    'url': 'https://i.scdn.co/image/0515a0dfc9c25cd8290cc4be58abf6f66f21706a',\n",
       "    'width': 640},\n",
       "   {'height': 133,\n",
       "    'url': 'https://i.scdn.co/image/ec9b2c869d9a04eae2fe5be44e285f5a48c97efd',\n",
       "    'width': 200},\n",
       "   {'height': 43,\n",
       "    'url': 'https://i.scdn.co/image/931d3d9ff7243f2a1a3f9d775959b06c28e19ad6',\n",
       "    'width': 64}],\n",
       "  'name': 'Ludacris',\n",
       "  'popularity': 73,\n",
       "  'type': 'artist',\n",
       "  'uri': 'spotify:artist:3ipn9JLAPI5GUEo4y4jcoi'},\n",
       " {'external_urls': {'spotify': 'https://open.spotify.com/artist/1YfEcTuGvBQ8xSD1f53UnK'},\n",
       "  'followers': {'href': None, 'total': 2569953},\n",
       "  'genres': ['east coast hip hop',\n",
       "   'hardcore hip hop',\n",
       "   'hip hop',\n",
       "   'pop rap',\n",
       "   'rap'],\n",
       "  'href': 'https://api.spotify.com/v1/artists/1YfEcTuGvBQ8xSD1f53UnK',\n",
       "  'id': '1YfEcTuGvBQ8xSD1f53UnK',\n",
       "  'images': [{'height': 640,\n",
       "    'url': 'https://i.scdn.co/image/ab6761610000e5eb7b31aba081ef084510cde4e3',\n",
       "    'width': 640},\n",
       "   {'height': 320,\n",
       "    'url': 'https://i.scdn.co/image/ab676161000051747b31aba081ef084510cde4e3',\n",
       "    'width': 320},\n",
       "   {'height': 160,\n",
       "    'url': 'https://i.scdn.co/image/ab6761610000f1787b31aba081ef084510cde4e3',\n",
       "    'width': 160}],\n",
       "  'name': 'Busta Rhymes',\n",
       "  'popularity': 69,\n",
       "  'type': 'artist',\n",
       "  'uri': 'spotify:artist:1YfEcTuGvBQ8xSD1f53UnK'},\n",
       " {'external_urls': {'spotify': 'https://open.spotify.com/artist/3ScY9CQxNLQei8Umvpx5g6'},\n",
       "  'followers': {'href': None, 'total': 1699882},\n",
       "  'genres': ['bronx hip hop',\n",
       "   'east coast hip hop',\n",
       "   'gangster rap',\n",
       "   'hardcore hip hop',\n",
       "   'hip hop',\n",
       "   'pop rap',\n",
       "   'rap',\n",
       "   'trap'],\n",
       "  'href': 'https://api.spotify.com/v1/artists/3ScY9CQxNLQei8Umvpx5g6',\n",
       "  'id': '3ScY9CQxNLQei8Umvpx5g6',\n",
       "  'images': [{'height': 640,\n",
       "    'url': 'https://i.scdn.co/image/ab6761610000e5eb0611b0c36216936a143d0e25',\n",
       "    'width': 640},\n",
       "   {'height': 320,\n",
       "    'url': 'https://i.scdn.co/image/ab676161000051740611b0c36216936a143d0e25',\n",
       "    'width': 320},\n",
       "   {'height': 160,\n",
       "    'url': 'https://i.scdn.co/image/ab6761610000f1780611b0c36216936a143d0e25',\n",
       "    'width': 160}],\n",
       "  'name': 'Fat Joe',\n",
       "  'popularity': 65,\n",
       "  'type': 'artist',\n",
       "  'uri': 'spotify:artist:3ScY9CQxNLQei8Umvpx5g6'},\n",
       " {'external_urls': {'spotify': 'https://open.spotify.com/artist/5K4W6rqBFWDnAN6FQUkS6x'},\n",
       "  'followers': {'href': None, 'total': 21916922},\n",
       "  'genres': ['chicago rap', 'hip hop', 'rap'],\n",
       "  'href': 'https://api.spotify.com/v1/artists/5K4W6rqBFWDnAN6FQUkS6x',\n",
       "  'id': '5K4W6rqBFWDnAN6FQUkS6x',\n",
       "  'images': [{'height': 640,\n",
       "    'url': 'https://i.scdn.co/image/ab6761610000e5eb867008a971fae0f4d913f63a',\n",
       "    'width': 640},\n",
       "   {'height': 320,\n",
       "    'url': 'https://i.scdn.co/image/ab67616100005174867008a971fae0f4d913f63a',\n",
       "    'width': 320},\n",
       "   {'height': 160,\n",
       "    'url': 'https://i.scdn.co/image/ab6761610000f178867008a971fae0f4d913f63a',\n",
       "    'width': 160}],\n",
       "  'name': 'Kanye West',\n",
       "  'popularity': 88,\n",
       "  'type': 'artist',\n",
       "  'uri': 'spotify:artist:5K4W6rqBFWDnAN6FQUkS6x'},\n",
       " {'external_urls': {'spotify': 'https://open.spotify.com/artist/01QTIT5P1pFP3QnnFSdsJf'},\n",
       "  'followers': {'href': None, 'total': 1885093},\n",
       "  'genres': ['chicago rap',\n",
       "   'conscious hip hop',\n",
       "   'hip hop',\n",
       "   'political hip hop',\n",
       "   'pop rap',\n",
       "   'rap',\n",
       "   'southern hip hop'],\n",
       "  'href': 'https://api.spotify.com/v1/artists/01QTIT5P1pFP3QnnFSdsJf',\n",
       "  'id': '01QTIT5P1pFP3QnnFSdsJf',\n",
       "  'images': [{'height': 640,\n",
       "    'url': 'https://i.scdn.co/image/ab6761610000e5eb17e0a43f3aaa0c48410c4b68',\n",
       "    'width': 640},\n",
       "   {'height': 320,\n",
       "    'url': 'https://i.scdn.co/image/ab6761610000517417e0a43f3aaa0c48410c4b68',\n",
       "    'width': 320},\n",
       "   {'height': 160,\n",
       "    'url': 'https://i.scdn.co/image/ab6761610000f17817e0a43f3aaa0c48410c4b68',\n",
       "    'width': 160}],\n",
       "  'name': 'Lupe Fiasco',\n",
       "  'popularity': 63,\n",
       "  'type': 'artist',\n",
       "  'uri': 'spotify:artist:01QTIT5P1pFP3QnnFSdsJf'},\n",
       " {'external_urls': {'spotify': 'https://open.spotify.com/artist/1G9G7WwrXka3Z1r7aIDjI7'},\n",
       "  'followers': {'href': None, 'total': 2403198},\n",
       "  'genres': ['atl hip hop',\n",
       "   'dirty south rap',\n",
       "   'hip hop',\n",
       "   'old school atlanta hip hop',\n",
       "   'rap',\n",
       "   'southern hip hop'],\n",
       "  'href': 'https://api.spotify.com/v1/artists/1G9G7WwrXka3Z1r7aIDjI7',\n",
       "  'id': '1G9G7WwrXka3Z1r7aIDjI7',\n",
       "  'images': [{'height': 640,\n",
       "    'url': 'https://i.scdn.co/image/ab6761610000e5eb0cb3f95b9f8f7337e135a925',\n",
       "    'width': 640},\n",
       "   {'height': 320,\n",
       "    'url': 'https://i.scdn.co/image/ab676161000051740cb3f95b9f8f7337e135a925',\n",
       "    'width': 320},\n",
       "   {'height': 160,\n",
       "    'url': 'https://i.scdn.co/image/ab6761610000f1780cb3f95b9f8f7337e135a925',\n",
       "    'width': 160}],\n",
       "  'name': 'Outkast',\n",
       "  'popularity': 72,\n",
       "  'type': 'artist',\n",
       "  'uri': 'spotify:artist:1G9G7WwrXka3Z1r7aIDjI7'},\n",
       " {'external_urls': {'spotify': 'https://open.spotify.com/artist/0NbfKEOTQCcwd6o7wSDOHI'},\n",
       "  'followers': {'href': None, 'total': 4821059},\n",
       "  'genres': ['detroit hip hop',\n",
       "   'gangster rap',\n",
       "   'hip hop',\n",
       "   'pop rap',\n",
       "   'rap',\n",
       "   'southern hip hop',\n",
       "   'trap'],\n",
       "  'href': 'https://api.spotify.com/v1/artists/0NbfKEOTQCcwd6o7wSDOHI',\n",
       "  'id': '0NbfKEOTQCcwd6o7wSDOHI',\n",
       "  'images': [{'height': 640,\n",
       "    'url': 'https://i.scdn.co/image/ab6761610000e5eba657aa5506945d264e147244',\n",
       "    'width': 640},\n",
       "   {'height': 320,\n",
       "    'url': 'https://i.scdn.co/image/ab67616100005174a657aa5506945d264e147244',\n",
       "    'width': 320},\n",
       "   {'height': 160,\n",
       "    'url': 'https://i.scdn.co/image/ab6761610000f178a657aa5506945d264e147244',\n",
       "    'width': 160}],\n",
       "  'name': 'The Game',\n",
       "  'popularity': 69,\n",
       "  'type': 'artist',\n",
       "  'uri': 'spotify:artist:0NbfKEOTQCcwd6o7wSDOHI'},\n",
       " {'external_urls': {'spotify': 'https://open.spotify.com/artist/0fA0VVWsXO9YnASrzqfmYu'},\n",
       "  'followers': {'href': None, 'total': 6732412},\n",
       "  'genres': ['hip hop', 'ohio hip hop', 'pop rap', 'rap'],\n",
       "  'href': 'https://api.spotify.com/v1/artists/0fA0VVWsXO9YnASrzqfmYu',\n",
       "  'id': '0fA0VVWsXO9YnASrzqfmYu',\n",
       "  'images': [{'height': 640,\n",
       "    'url': 'https://i.scdn.co/image/ab6761610000e5eb876faa285687786c3d314ae0',\n",
       "    'width': 640},\n",
       "   {'height': 320,\n",
       "    'url': 'https://i.scdn.co/image/ab67616100005174876faa285687786c3d314ae0',\n",
       "    'width': 320},\n",
       "   {'height': 160,\n",
       "    'url': 'https://i.scdn.co/image/ab6761610000f178876faa285687786c3d314ae0',\n",
       "    'width': 160}],\n",
       "  'name': 'Kid Cudi',\n",
       "  'popularity': 77,\n",
       "  'type': 'artist',\n",
       "  'uri': 'spotify:artist:0fA0VVWsXO9YnASrzqfmYu'},\n",
       " {'external_urls': {'spotify': 'https://open.spotify.com/artist/6O2zJ0tId7g07yzHtX0yap'},\n",
       "  'followers': {'href': None, 'total': 1959262},\n",
       "  'genres': ['east coast hip hop',\n",
       "   'hardcore hip hop',\n",
       "   'hip hop',\n",
       "   'queens hip hop'],\n",
       "  'href': 'https://api.spotify.com/v1/artists/6O2zJ0tId7g07yzHtX0yap',\n",
       "  'id': '6O2zJ0tId7g07yzHtX0yap',\n",
       "  'images': [{'height': 640,\n",
       "    'url': 'https://i.scdn.co/image/ab6761610000e5ebf85a8db4c66d84f796d2afe5',\n",
       "    'width': 640},\n",
       "   {'height': 320,\n",
       "    'url': 'https://i.scdn.co/image/ab67616100005174f85a8db4c66d84f796d2afe5',\n",
       "    'width': 320},\n",
       "   {'height': 160,\n",
       "    'url': 'https://i.scdn.co/image/ab6761610000f178f85a8db4c66d84f796d2afe5',\n",
       "    'width': 160}],\n",
       "  'name': 'Mobb Deep',\n",
       "  'popularity': 64,\n",
       "  'type': 'artist',\n",
       "  'uri': 'spotify:artist:6O2zJ0tId7g07yzHtX0yap'},\n",
       " {'external_urls': {'spotify': 'https://open.spotify.com/artist/17lzZA2AlOHwCwFALHttmp'},\n",
       "  'followers': {'href': None, 'total': 8042099},\n",
       "  'genres': ['atl hip hop',\n",
       "   'hip hop',\n",
       "   'pop rap',\n",
       "   'rap',\n",
       "   'southern hip hop',\n",
       "   'trap'],\n",
       "  'href': 'https://api.spotify.com/v1/artists/17lzZA2AlOHwCwFALHttmp',\n",
       "  'id': '17lzZA2AlOHwCwFALHttmp',\n",
       "  'images': [{'height': 640,\n",
       "    'url': 'https://i.scdn.co/image/ab6761610000e5ebf556662d187b9191c421be1c',\n",
       "    'width': 640},\n",
       "   {'height': 320,\n",
       "    'url': 'https://i.scdn.co/image/ab67616100005174f556662d187b9191c421be1c',\n",
       "    'width': 320},\n",
       "   {'height': 160,\n",
       "    'url': 'https://i.scdn.co/image/ab6761610000f178f556662d187b9191c421be1c',\n",
       "    'width': 160}],\n",
       "  'name': '2 Chainz',\n",
       "  'popularity': 73,\n",
       "  'type': 'artist',\n",
       "  'uri': 'spotify:artist:17lzZA2AlOHwCwFALHttmp'},\n",
       " {'external_urls': {'spotify': 'https://open.spotify.com/artist/5pnbUBPifNnlusY8kTBivi'},\n",
       "  'followers': {'href': None, 'total': 1158066},\n",
       "  'genres': ['battle rap', 'east coast hip hop', 'trap'],\n",
       "  'href': 'https://api.spotify.com/v1/artists/5pnbUBPifNnlusY8kTBivi',\n",
       "  'id': '5pnbUBPifNnlusY8kTBivi',\n",
       "  'images': [{'height': 640,\n",
       "    'url': 'https://i.scdn.co/image/ab6761610000e5ebd8dba5c02f8c75eb280dd70e',\n",
       "    'width': 640},\n",
       "   {'height': 320,\n",
       "    'url': 'https://i.scdn.co/image/ab67616100005174d8dba5c02f8c75eb280dd70e',\n",
       "    'width': 320},\n",
       "   {'height': 160,\n",
       "    'url': 'https://i.scdn.co/image/ab6761610000f178d8dba5c02f8c75eb280dd70e',\n",
       "    'width': 160}],\n",
       "  'name': 'Jadakiss',\n",
       "  'popularity': 62,\n",
       "  'type': 'artist',\n",
       "  'uri': 'spotify:artist:5pnbUBPifNnlusY8kTBivi'},\n",
       " {'external_urls': {'spotify': 'https://open.spotify.com/artist/0Mz5XE0kb1GBnbLQm2VbcO'},\n",
       "  'followers': {'href': None, 'total': 1417236},\n",
       "  'genres': ['conscious hip hop', 'east coast hip hop', 'hip hop'],\n",
       "  'href': 'https://api.spotify.com/v1/artists/0Mz5XE0kb1GBnbLQm2VbcO',\n",
       "  'id': '0Mz5XE0kb1GBnbLQm2VbcO',\n",
       "  'images': [{'height': 1000,\n",
       "    'url': 'https://i.scdn.co/image/d39cd5769332fb51014cc1cc9934c8890fcd49f7',\n",
       "    'width': 1000},\n",
       "   {'height': 764,\n",
       "    'url': 'https://i.scdn.co/image/eae06411463fb7ffea6a433c9d22f11418a1f7da',\n",
       "    'width': 600},\n",
       "   {'height': 255,\n",
       "    'url': 'https://i.scdn.co/image/d5fec1743c5af5eb5fccecee7b5a6037eb3bfa87',\n",
       "    'width': 200},\n",
       "   {'height': 81,\n",
       "    'url': 'https://i.scdn.co/image/cc0165937957a92af9a0b6cf5e85f61ab8ed043b',\n",
       "    'width': 64}],\n",
       "  'name': 'Mos Def',\n",
       "  'popularity': 62,\n",
       "  'type': 'artist',\n",
       "  'uri': 'spotify:artist:0Mz5XE0kb1GBnbLQm2VbcO'},\n",
       " {'external_urls': {'spotify': 'https://open.spotify.com/artist/0YWxKQj2Go9CGHCp77UOyy'},\n",
       "  'followers': {'href': None, 'total': 2667849},\n",
       "  'genres': ['gangster rap',\n",
       "   'hip hop',\n",
       "   'pop rap',\n",
       "   'rap',\n",
       "   'trap',\n",
       "   'urban contemporary'],\n",
       "  'href': 'https://api.spotify.com/v1/artists/0YWxKQj2Go9CGHCp77UOyy',\n",
       "  'id': '0YWxKQj2Go9CGHCp77UOyy',\n",
       "  'images': [{'height': 640,\n",
       "    'url': 'https://i.scdn.co/image/ab6761610000e5ebece5603bef9fa046ef9a178c',\n",
       "    'width': 640},\n",
       "   {'height': 320,\n",
       "    'url': 'https://i.scdn.co/image/ab67616100005174ece5603bef9fa046ef9a178c',\n",
       "    'width': 320},\n",
       "   {'height': 160,\n",
       "    'url': 'https://i.scdn.co/image/ab6761610000f178ece5603bef9fa046ef9a178c',\n",
       "    'width': 160}],\n",
       "  'name': 'Fabolous',\n",
       "  'popularity': 63,\n",
       "  'type': 'artist',\n",
       "  'uri': 'spotify:artist:0YWxKQj2Go9CGHCp77UOyy'}]"
      ]
     },
     "execution_count": 44,
     "metadata": {},
     "output_type": "execute_result"
    }
   ],
   "source": [
    "artists = get_related_artists(token, \"3nFkdlSjzX9mRTtwJOzDYB\")\n",
    "artists\n",
    "# len(artists)"
   ]
  },
  {
   "cell_type": "markdown",
   "metadata": {},
   "source": [
    "### Automating the process"
   ]
  },
  {
   "cell_type": "code",
   "execution_count": 16,
   "metadata": {},
   "outputs": [],
   "source": [
    "related_artist = {}\n",
    "related_artist[\"main_artist\"] = []\n",
    "related_artist[\"id\"] = []\n",
    "related_artist[\"name\"] = []\n",
    "related_artist[\"popularity\"] = []\n",
    "related_artist[\"genres\"] = []"
   ]
  },
  {
   "cell_type": "code",
   "execution_count": 17,
   "metadata": {},
   "outputs": [],
   "source": [
    "def collect_related_artists(token, artist_name):\n",
    "    related_artist[\"main_artist\"].append(artist_name)\n",
    "    main_artist_id = get_artist_id(token, artist_name)\n",
    "    artists = get_related_artists(token, main_artist_id)\n",
    "    \n",
    "    for i in range(len(artists)):\n",
    "        related_artist[\"id\"].append(artists[i][\"id\"])\n",
    "        related_artist[\"name\"].append(artists[i][\"name\"])\n",
    "        related_artist[\"popularity\"].append(artists[i][\"popularity\"])\n",
    "        related_artist[\"genres\"].append(artists[i][\"genres\"])\n",
    "    \n",
    "    data_trash = related_artist.copy()\n",
    "    aux = 0\n",
    "    while (len(data_trash[\"id\"]) != 0):\n",
    "        related_artist[\"main_artist\"].append(get_artist_name(token, artists[aux][\"id\"]))\n",
    "        # print(aux)\n",
    "        side_artists = get_related_artists(token, artists[aux][\"id\"])\n",
    "        \n",
    "        for i in range(len(side_artists)):\n",
    "            related_artist[\"id\"].append(side_artists[i][\"id\"])\n",
    "            related_artist[\"name\"].append(side_artists[i][\"name\"])\n",
    "            related_artist[\"popularity\"].append(side_artists[i][\"popularity\"])\n",
    "            related_artist[\"genres\"].append(side_artists[i][\"genres\"])\n",
    "        \n",
    "        data_trash[\"id\"].pop(0)\n",
    "        aux += 1\n",
    "        if aux == 20:\n",
    "            return related_artist"
   ]
  },
  {
   "cell_type": "code",
   "execution_count": 13,
   "metadata": {},
   "outputs": [],
   "source": [
    "# data_rap = collect_related_artists(token, \"Ludacris\")\n",
    "# data_pop = collect_related_artists(token, \"Steven Tyler\")"
   ]
  },
  {
   "cell_type": "code",
   "execution_count": 14,
   "metadata": {},
   "outputs": [],
   "source": [
    "# data_pop"
   ]
  },
  {
   "cell_type": "code",
   "execution_count": 89,
   "metadata": {},
   "outputs": [],
   "source": [
    "def generating_csv(file_name, dictionary):\n",
    "    with open(f\"../data/{file_name}.csv\", mode=\"w\", newline=\"\") as csv_file:\n",
    "        csv_writer = csv.writer(csv_file)\n",
    "        \n",
    "        keys = dictionary.keys()\n",
    "        \n",
    "        csv_writer.writerow(keys)\n",
    "        \n",
    "        for i in range(len(dictionary[\"main_artist\"])):\n",
    "            line = [dictionary[key][i] for key in keys]\n",
    "            csv_writer.writerow(line)\n",
    "        \n",
    "        return \"ok\""
   ]
  },
  {
   "cell_type": "code",
   "execution_count": 90,
   "metadata": {},
   "outputs": [
    {
     "data": {
      "text/plain": [
       "'ok'"
      ]
     },
     "execution_count": 90,
     "metadata": {},
     "output_type": "execute_result"
    }
   ],
   "source": [
    "# generating_csv(\"pop_artist\", data_pop)"
   ]
  },
  {
   "cell_type": "code",
   "execution_count": 55,
   "metadata": {},
   "outputs": [],
   "source": [
    "def generating_data(file_name):\n",
    "    initial_data = pd.read_csv(\"../data/rappers.csv\")\n",
    "    \n",
    "    with open(f\"../data/{file_name}.csv\", mode=\"w\", newline=\"\") as csv_file:\n",
    "        writer = csv.writer(csv_file)\n",
    "        \n",
    "        headers = [\"main_artist\", \"id\", \"name\", \"popularity\", \"genres\", \"relations\"]\n",
    "        \n",
    "        writer.writerow(headers)\n",
    "        \n",
    "        for i in range(len(initial_data)):\n",
    "            # print(len(initial_data))\n",
    "            # print(initial_data[\"name\"])\n",
    "            relations = get_related_artists(token, get_artist_id(token, initial_data[\"main_artist\"][i]))\n",
    "            relations_data = [] \n",
    "            \n",
    "            for relation in relations:\n",
    "                # print(relation[\"genres\"])\n",
    "                artists_data = {\"id\": relation[\"id\"], \n",
    "                                 \"name\": relation[\"name\"], \n",
    "                                 \"genres\": \", \".join(relation[\"genres\"])\n",
    "                }\n",
    "                \n",
    "                relations_data.append(artists_data)\n",
    "            \n",
    "            artists_fields = [\n",
    "                initial_data[\"main_artist\"][i],\n",
    "                initial_data[\"id\"][i],\n",
    "                initial_data[\"name\"][i],\n",
    "                initial_data[\"popularity\"][i],\n",
    "                initial_data[\"genres\"][i],\n",
    "                relations_data,\n",
    "            ]\n",
    "            writer.writerow(artists_fields)\n",
    "        \n",
    "        print(f\"Users information saved to {file_name}\")"
   ]
  },
  {
   "cell_type": "code",
   "execution_count": 56,
   "metadata": {},
   "outputs": [
    {
     "ename": "KeyError",
     "evalue": "'artists'",
     "output_type": "error",
     "traceback": [
      "\u001b[1;31m---------------------------------------------------------------------------\u001b[0m",
      "\u001b[1;31mKeyError\u001b[0m                                  Traceback (most recent call last)",
      "\u001b[1;32mc:\\Users\\artur\\Documents\\GitHub\\spotify-artist-tracker\\src\\artists-api.ipynb Cell 31\u001b[0m line \u001b[0;36m1\n\u001b[1;32m----> <a href='vscode-notebook-cell:/c%3A/Users/artur/Documents/GitHub/spotify-artist-tracker/src/artists-api.ipynb#X42sZmlsZQ%3D%3D?line=0'>1</a>\u001b[0m generating_data(\u001b[39m\"\u001b[39;49m\u001b[39mteste\u001b[39;49m\u001b[39m\"\u001b[39;49m)\n",
      "\u001b[1;32mc:\\Users\\artur\\Documents\\GitHub\\spotify-artist-tracker\\src\\artists-api.ipynb Cell 31\u001b[0m line \u001b[0;36m1\n\u001b[0;32m      <a href='vscode-notebook-cell:/c%3A/Users/artur/Documents/GitHub/spotify-artist-tracker/src/artists-api.ipynb#X42sZmlsZQ%3D%3D?line=8'>9</a>\u001b[0m writer\u001b[39m.\u001b[39mwriterow(headers)\n\u001b[0;32m     <a href='vscode-notebook-cell:/c%3A/Users/artur/Documents/GitHub/spotify-artist-tracker/src/artists-api.ipynb#X42sZmlsZQ%3D%3D?line=10'>11</a>\u001b[0m \u001b[39mfor\u001b[39;00m i \u001b[39min\u001b[39;00m \u001b[39mrange\u001b[39m(\u001b[39mlen\u001b[39m(initial_data)):\n\u001b[0;32m     <a href='vscode-notebook-cell:/c%3A/Users/artur/Documents/GitHub/spotify-artist-tracker/src/artists-api.ipynb#X42sZmlsZQ%3D%3D?line=11'>12</a>\u001b[0m     \u001b[39m# print(len(initial_data))\u001b[39;00m\n\u001b[0;32m     <a href='vscode-notebook-cell:/c%3A/Users/artur/Documents/GitHub/spotify-artist-tracker/src/artists-api.ipynb#X42sZmlsZQ%3D%3D?line=12'>13</a>\u001b[0m     \u001b[39m# print(initial_data[\"name\"])\u001b[39;00m\n\u001b[1;32m---> <a href='vscode-notebook-cell:/c%3A/Users/artur/Documents/GitHub/spotify-artist-tracker/src/artists-api.ipynb#X42sZmlsZQ%3D%3D?line=13'>14</a>\u001b[0m     relations \u001b[39m=\u001b[39m get_related_artists(token, get_artist_id(token, initial_data[\u001b[39m\"\u001b[39;49m\u001b[39mmain_artist\u001b[39;49m\u001b[39m\"\u001b[39;49m][i]))\n\u001b[0;32m     <a href='vscode-notebook-cell:/c%3A/Users/artur/Documents/GitHub/spotify-artist-tracker/src/artists-api.ipynb#X42sZmlsZQ%3D%3D?line=14'>15</a>\u001b[0m     relations_data \u001b[39m=\u001b[39m [] \n\u001b[0;32m     <a href='vscode-notebook-cell:/c%3A/Users/artur/Documents/GitHub/spotify-artist-tracker/src/artists-api.ipynb#X42sZmlsZQ%3D%3D?line=16'>17</a>\u001b[0m     \u001b[39mfor\u001b[39;00m relation \u001b[39min\u001b[39;00m relations:\n\u001b[0;32m     <a href='vscode-notebook-cell:/c%3A/Users/artur/Documents/GitHub/spotify-artist-tracker/src/artists-api.ipynb#X42sZmlsZQ%3D%3D?line=17'>18</a>\u001b[0m         \u001b[39m# print(relation[\"genres\"])\u001b[39;00m\n",
      "\u001b[1;32mc:\\Users\\artur\\Documents\\GitHub\\spotify-artist-tracker\\src\\artists-api.ipynb Cell 31\u001b[0m line \u001b[0;36m6\n\u001b[0;32m      <a href='vscode-notebook-cell:/c%3A/Users/artur/Documents/GitHub/spotify-artist-tracker/src/artists-api.ipynb#X42sZmlsZQ%3D%3D?line=2'>3</a>\u001b[0m headers \u001b[39m=\u001b[39m get_auth_header(token)\n\u001b[0;32m      <a href='vscode-notebook-cell:/c%3A/Users/artur/Documents/GitHub/spotify-artist-tracker/src/artists-api.ipynb#X42sZmlsZQ%3D%3D?line=4'>5</a>\u001b[0m result \u001b[39m=\u001b[39m requests\u001b[39m.\u001b[39mget(artists_url, headers\u001b[39m=\u001b[39mheaders)\n\u001b[1;32m----> <a href='vscode-notebook-cell:/c%3A/Users/artur/Documents/GitHub/spotify-artist-tracker/src/artists-api.ipynb#X42sZmlsZQ%3D%3D?line=5'>6</a>\u001b[0m json_result \u001b[39m=\u001b[39m json\u001b[39m.\u001b[39;49mloads(result\u001b[39m.\u001b[39;49mcontent)[\u001b[39m\"\u001b[39;49m\u001b[39martists\u001b[39;49m\u001b[39m\"\u001b[39;49m]\n\u001b[0;32m      <a href='vscode-notebook-cell:/c%3A/Users/artur/Documents/GitHub/spotify-artist-tracker/src/artists-api.ipynb#X42sZmlsZQ%3D%3D?line=7'>8</a>\u001b[0m \u001b[39mreturn\u001b[39;00m json_result\n",
      "\u001b[1;31mKeyError\u001b[0m: 'artists'"
     ]
    }
   ],
   "source": [
    "generating_data(\"teste\")"
   ]
  },
  {
   "cell_type": "code",
   "execution_count": null,
   "metadata": {},
   "outputs": [],
   "source": []
  }
 ],
 "metadata": {
  "kernelspec": {
   "display_name": "Python 3",
   "language": "python",
   "name": "python3"
  },
  "language_info": {
   "codemirror_mode": {
    "name": "ipython",
    "version": 3
   },
   "file_extension": ".py",
   "mimetype": "text/x-python",
   "name": "python",
   "nbconvert_exporter": "python",
   "pygments_lexer": "ipython3",
   "version": "3.9.16"
  }
 },
 "nbformat": 4,
 "nbformat_minor": 2
}
