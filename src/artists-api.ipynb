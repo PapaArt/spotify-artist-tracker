{
 "cells": [
  {
   "cell_type": "markdown",
   "metadata": {},
   "source": [
    "## Authentication to Spotify API"
   ]
  },
  {
   "cell_type": "markdown",
   "metadata": {},
   "source": [
    "### Imports"
   ]
  },
  {
   "cell_type": "code",
   "execution_count": 20,
   "metadata": {},
   "outputs": [],
   "source": [
    "import pandas as pd\n",
    "import requests\n",
    "import base64\n",
    "import json\n",
    "import csv\n",
    "import os"
   ]
  },
  {
   "cell_type": "markdown",
   "metadata": {},
   "source": [
    "### Request for access token"
   ]
  },
  {
   "cell_type": "code",
   "execution_count": 21,
   "metadata": {},
   "outputs": [],
   "source": [
    "client_id = os.getenv(\"CLIENT_ID\")\n",
    "client_secret = os.getenv(\"CLIENT_SECRET\")"
   ]
  },
  {
   "cell_type": "code",
   "execution_count": 22,
   "metadata": {},
   "outputs": [],
   "source": [
    "auth_string = client_id + \":\" + client_secret\n",
    "auth_bytes = auth_string.encode(\"utf-8\")\n",
    "auth_base64 = str(base64.b64encode(auth_bytes), \"utf-8\")"
   ]
  },
  {
   "cell_type": "code",
   "execution_count": 23,
   "metadata": {},
   "outputs": [],
   "source": [
    "url = \"https://accounts.spotify.com/api/token\"\n",
    "headers = {\n",
    "    \"Authorization\": \"Basic \" + auth_base64,\n",
    "    \"Content-type\": \"application/x-www-form-urlencoded\"\n",
    "}\n",
    "data = {\"grant_type\": \"client_credentials\"}"
   ]
  },
  {
   "cell_type": "code",
   "execution_count": 24,
   "metadata": {},
   "outputs": [
    {
     "data": {
      "text/plain": [
       "<Response [200]>"
      ]
     },
     "execution_count": 24,
     "metadata": {},
     "output_type": "execute_result"
    }
   ],
   "source": [
    "result = requests.post(url, headers=headers, data=data)\n",
    "result"
   ]
  },
  {
   "cell_type": "code",
   "execution_count": 25,
   "metadata": {},
   "outputs": [
    {
     "data": {
      "text/plain": [
       "'BQAfGu3V8Y4Dpxv6ErafnXM1YHLPfRU6hSObQqmuMxRPB6ejnXtwZEZ48DEwJC9nr3R-oD73aLcBo2POkc-dzXbwcBi8zTBsRVbRZecA6--ZjXZzQLY'"
      ]
     },
     "execution_count": 25,
     "metadata": {},
     "output_type": "execute_result"
    }
   ],
   "source": [
    "json_result = json.loads(result.content)\n",
    "token = json_result[\"access_token\"]\n",
    "token"
   ]
  },
  {
   "cell_type": "code",
   "execution_count": 26,
   "metadata": {},
   "outputs": [],
   "source": [
    "def get_auth_header(token):\n",
    "    return {\"Authorization\": \"Bearer \" + token}\n",
    "# get_auth_header(token)"
   ]
  },
  {
   "cell_type": "markdown",
   "metadata": {},
   "source": [
    "### Searching for artist"
   ]
  },
  {
   "cell_type": "code",
   "execution_count": 27,
   "metadata": {},
   "outputs": [],
   "source": [
    "def search_artist(token, artist_name):\n",
    "    search_url = \"https://api.spotify.com/v1/search\"\n",
    "    headers = get_auth_header(token)\n",
    "    query = f\"?q={artist_name}&type=artist&limit=2\"\n",
    "    \n",
    "    query_url = search_url + query\n",
    "    result = requests.get(query_url, headers=headers)\n",
    "    json_result = json.loads(result.content)\n",
    "    \n",
    "    return json_result\n"
   ]
  },
  {
   "cell_type": "code",
   "execution_count": 28,
   "metadata": {},
   "outputs": [],
   "source": [
    "# search_artist(token, \"Kanye West\")"
   ]
  },
  {
   "cell_type": "markdown",
   "metadata": {},
   "source": [
    "### Getting the id"
   ]
  },
  {
   "cell_type": "code",
   "execution_count": 29,
   "metadata": {},
   "outputs": [],
   "source": [
    "def get_artist_id(token, artist_name):\n",
    "    search_url = \"https://api.spotify.com/v1/search\"\n",
    "    headers = get_auth_header(token)\n",
    "    query = f\"?q={artist_name}&type=artist&limit=2\"\n",
    "    \n",
    "    query_url = search_url + query\n",
    "    result = requests.get(query_url, headers=headers)\n",
    "    json_result = json.loads(result.content)[\"artists\"][\"items\"]\n",
    "    \n",
    "    artist_id = json_result[0]\n",
    "    \n",
    "    if len(json_result) == 0:\n",
    "        return f\"No artists with this name\"\n",
    "    \n",
    "    return artist_id[\"id\"]"
   ]
  },
  {
   "cell_type": "code",
   "execution_count": 30,
   "metadata": {},
   "outputs": [
    {
     "data": {
      "text/plain": [
       "'5K4W6rqBFWDnAN6FQUkS6x'"
      ]
     },
     "execution_count": 30,
     "metadata": {},
     "output_type": "execute_result"
    }
   ],
   "source": [
    "get_artist_id(token, \"Kanye West\")"
   ]
  },
  {
   "cell_type": "markdown",
   "metadata": {},
   "source": [
    "### Getting the artist name"
   ]
  },
  {
   "cell_type": "code",
   "execution_count": 31,
   "metadata": {},
   "outputs": [],
   "source": [
    "def get_artist_name(token, id):\n",
    "    search_url = f\"https://api.spotify.com/v1/artists/{id}\"\n",
    "    headers = get_auth_header(token)\n",
    "    \n",
    "    result = requests.get(search_url, headers=headers)\n",
    "    json_result = json.loads(result.content)[\"name\"]\n",
    "    \n",
    "    return json_result"
   ]
  },
  {
   "cell_type": "code",
   "execution_count": 13,
   "metadata": {},
   "outputs": [
    {
     "data": {
      "text/plain": [
       "'Kanye West'"
      ]
     },
     "execution_count": 13,
     "metadata": {},
     "output_type": "execute_result"
    }
   ],
   "source": [
    "test = get_artist_name(token, \"5K4W6rqBFWDnAN6FQUkS6x\")\n",
    "test"
   ]
  },
  {
   "cell_type": "markdown",
   "metadata": {},
   "source": [
    "### Getting the related artists"
   ]
  },
  {
   "cell_type": "code",
   "execution_count": 32,
   "metadata": {},
   "outputs": [],
   "source": [
    "def get_related_artists(token, id):\n",
    "    artists_url = f\"https://api.spotify.com/v1/artists/{id}/related-artists\"\n",
    "    headers = get_auth_header(token)\n",
    "    \n",
    "    result = requests.get(artists_url, headers=headers)\n",
    "    json_result = json.loads(result.content)[\"artists\"]\n",
    "    \n",
    "    return json_result"
   ]
  },
  {
   "cell_type": "code",
   "execution_count": 15,
   "metadata": {},
   "outputs": [],
   "source": [
    "artists = get_related_artists(token, \"3nFkdlSjzX9mRTtwJOzDYB\")\n",
    "# artists\n",
    "# len(artists)"
   ]
  },
  {
   "cell_type": "markdown",
   "metadata": {},
   "source": [
    "### Automating the process"
   ]
  },
  {
   "cell_type": "code",
   "execution_count": 28,
   "metadata": {},
   "outputs": [],
   "source": [
    "related_artist = {}\n",
    "related_artist[\"main_artist\"] = []\n",
    "related_artist[\"id\"] = []\n",
    "related_artist[\"name\"] = []\n",
    "related_artist[\"popularity\"] = []\n",
    "related_artist[\"genres\"] = []"
   ]
  },
  {
   "cell_type": "code",
   "execution_count": 33,
   "metadata": {},
   "outputs": [],
   "source": [
    "def collect_related_artists(token, artist_name):\n",
    "    related_artist[\"main_artist\"].append(artist_name)\n",
    "    main_artist_id = get_artist_id(token, artist_name)\n",
    "    artists = get_related_artists(token, main_artist_id)\n",
    "    \n",
    "    for i in range(len(artists)):\n",
    "        related_artist[\"id\"].append(artists[i][\"id\"])\n",
    "        related_artist[\"name\"].append(artists[i][\"name\"])\n",
    "        related_artist[\"popularity\"].append(artists[i][\"popularity\"])\n",
    "        related_artist[\"genres\"].append(artists[i][\"genres\"])\n",
    "    \n",
    "    data_trash = related_artist.copy()\n",
    "    aux = 0\n",
    "    while (len(data_trash[\"id\"]) != 0):\n",
    "        related_artist[\"main_artist\"].append(get_artist_name(token, artists[aux][\"id\"]))\n",
    "        # print(aux)\n",
    "        side_artists = get_related_artists(token, artists[aux][\"id\"])\n",
    "        \n",
    "        for i in range(len(side_artists)):\n",
    "            related_artist[\"id\"].append(side_artists[i][\"id\"])\n",
    "            related_artist[\"name\"].append(side_artists[i][\"name\"])\n",
    "            related_artist[\"popularity\"].append(side_artists[i][\"popularity\"])\n",
    "            related_artist[\"genres\"].append(side_artists[i][\"genres\"])\n",
    "        \n",
    "        data_trash[\"id\"].pop(0)\n",
    "        aux += 1\n",
    "        if aux == 20:\n",
    "            return related_artist\n",
    "    \n",
    "        "
   ]
  },
  {
   "cell_type": "code",
   "execution_count": 13,
   "metadata": {},
   "outputs": [],
   "source": [
    "# data_rap = collect_related_artists(token, \"Ludacris\")\n",
    "# data_pop = collect_related_artists(token, \"Steven Tyler\")"
   ]
  },
  {
   "cell_type": "code",
   "execution_count": 14,
   "metadata": {},
   "outputs": [],
   "source": [
    "# data_pop"
   ]
  },
  {
   "cell_type": "code",
   "execution_count": 88,
   "metadata": {},
   "outputs": [],
   "source": [
    "def generating_csv(file_name, dictionary):\n",
    "    with open(f\"../data/{file_name}.csv\", mode=\"w\", newline=\"\") as csv_file:\n",
    "        csv_writer = csv.writer(csv_file)\n",
    "        \n",
    "        keys = dictionary.keys()\n",
    "        \n",
    "        csv_writer.writerow(keys)\n",
    "        \n",
    "        for i in range(len(dictionary[\"main_artist\"])):\n",
    "            line = [dictionary[key][i] for key in keys]\n",
    "            csv_writer.writerow(line)\n",
    "        \n",
    "        return \"ok\""
   ]
  },
  {
   "cell_type": "code",
   "execution_count": 90,
   "metadata": {},
   "outputs": [
    {
     "data": {
      "text/plain": [
       "'ok'"
      ]
     },
     "execution_count": 90,
     "metadata": {},
     "output_type": "execute_result"
    }
   ],
   "source": [
    "# generating_csv(\"pop_artist\", data_pop)"
   ]
  },
  {
   "cell_type": "markdown",
   "metadata": {},
   "source": [
    "## Fluxo\n",
    "### Passo 1\n",
    "Importar o CSV\n",
    "### Passo 2\n",
    "Criar um novo CSV contendo os dados antigos mais uma coluna de relação\n",
    "### Passo 3\n",
    "Iterar o CSV antigo pra cada user, obter os dados antigos + a relação \n",
    "### Passo 4\n",
    "Após tudo, escrever a linha"
   ]
  },
  {
   "cell_type": "code",
   "execution_count": 69,
   "metadata": {},
   "outputs": [],
   "source": [
    "\n",
    "def generating_data(file_name):\n",
    "    initial_data = pd.read_csv(\"../data/rappers.csv\", encoding='utf-8')\n",
    "    \n",
    "    with open(f\"../data/{file_name}.csv\", mode=\"w\", encoding='utf-8', newline=\"\") as csv_file:\n",
    "        writer = csv.writer(csv_file)\n",
    "        \n",
    "        headers = [\"main_artist\", \"id\", \"name\", \"popularity\", \"genres\", \"relations\"]\n",
    "        \n",
    "        writer.writerow(headers)\n",
    "        \n",
    "        for artist in initial_data:\n",
    "            print(initial_data)\n",
    "            # print(artist)\n",
    "            relations = get_related_artists(token, get_artist_id(token, \"Kanye West\"))\n",
    "            artists_fields = [\n",
    "                artist.main_artist,\n",
    "                artist.id,\n",
    "                artist.name,\n",
    "                artist.popularity,\n",
    "                artist.genres,\n",
    "                artist.relations,\n",
    "                \",\".join(relations)\n",
    "            ]\n",
    "            \n",
    "            writer.writerow(artists_fields)\n",
    "        \n",
    "        print(f\"Users information saved to {file_name}\")"
   ]
  },
  {
   "cell_type": "code",
   "execution_count": 70,
   "metadata": {},
   "outputs": [
    {
     "name": "stdout",
     "output_type": "stream",
     "text": [
      "         main_artist                      id              name  popularity  \\\n",
      "0         Kanye West  6DPYiyq5kWVQS4RGwxzPC7             JAY-Z          81   \n",
      "1              JAY-Z  3Mcii5XWf6E0lrY3Uky4cA          Kid Cudi          77   \n",
      "2           Kid Cudi  1Oa0bMld0A3u5OTYfMzp5h    Kendrick Lamar          86   \n",
      "3     Kendrick Lamar  7B4hKK0S9QYnaoqa9OuwgX        A$AP Rocky          79   \n",
      "4         A$AP Rocky  4EnEZVjo3w1cwcQYePccay         Baby Keem          75   \n",
      "...              ...                     ...               ...         ...   \n",
      "1045  Chamillionaire  5IcR3N7QB1j6KBL8eImZ8m        Gang Starr          61   \n",
      "1046     Trick Daddy  68kEuyFKyqrdQQLLsmiatm  Ghostface Killah          63   \n",
      "1047        Mystikal  2hPgGN4uhvXAxiXQBIXOmE        Method Man          67   \n",
      "1048    David Banner  5Matrg5du62bXwer29cU5T            Common          58   \n",
      "1049  Jermaine Dupri  0TkqXdyWLsssJH7okthMPQ            Redman          61   \n",
      "\n",
      "                                                 genres  \n",
      "0     ['east coast hip hop', 'gangster rap', 'hip ho...  \n",
      "1         ['hip hop', 'ohio hip hop', 'pop rap', 'rap']  \n",
      "2     ['conscious hip hop', 'hip hop', 'rap', 'west ...  \n",
      "3      ['east coast hip hop', 'hip hop', 'rap', 'trap']  \n",
      "4                                    ['hip hop', 'rap']  \n",
      "...                                                 ...  \n",
      "1045  ['alternative hip hop', 'conscious hip hop', '...  \n",
      "1046         ['east coast hip hop', 'hardcore hip hop']  \n",
      "1047  ['east coast hip hop', 'hardcore hip hop', 'hi...  \n",
      "1048  ['alternative hip hop', 'chicago rap', 'consci...  \n",
      "1049  ['east coast hip hop', 'hardcore hip hop', 'ne...  \n",
      "\n",
      "[1050 rows x 5 columns]\n"
     ]
    },
    {
     "ename": "AttributeError",
     "evalue": "'str' object has no attribute 'main_artist'",
     "output_type": "error",
     "traceback": [
      "\u001b[1;31m---------------------------------------------------------------------------\u001b[0m",
      "\u001b[1;31mAttributeError\u001b[0m                            Traceback (most recent call last)",
      "\u001b[1;32mc:\\Users\\artur\\Documents\\GitHub\\spotify-artist-tracker\\src\\artists-api.ipynb Cell 32\u001b[0m line \u001b[0;36m1\n\u001b[1;32m----> <a href='vscode-notebook-cell:/c%3A/Users/artur/Documents/GitHub/spotify-artist-tracker/src/artists-api.ipynb#X43sZmlsZQ%3D%3D?line=0'>1</a>\u001b[0m generating_data(\u001b[39m\"\u001b[39;49m\u001b[39mteste\u001b[39;49m\u001b[39m\"\u001b[39;49m)\n",
      "\u001b[1;32mc:\\Users\\artur\\Documents\\GitHub\\spotify-artist-tracker\\src\\artists-api.ipynb Cell 32\u001b[0m line \u001b[0;36m1\n\u001b[0;32m     <a href='vscode-notebook-cell:/c%3A/Users/artur/Documents/GitHub/spotify-artist-tracker/src/artists-api.ipynb#X43sZmlsZQ%3D%3D?line=12'>13</a>\u001b[0m     \u001b[39m# print(artist)\u001b[39;00m\n\u001b[0;32m     <a href='vscode-notebook-cell:/c%3A/Users/artur/Documents/GitHub/spotify-artist-tracker/src/artists-api.ipynb#X43sZmlsZQ%3D%3D?line=13'>14</a>\u001b[0m     relations \u001b[39m=\u001b[39m get_related_artists(token, get_artist_id(token, \u001b[39m\"\u001b[39m\u001b[39mKanye West\u001b[39m\u001b[39m\"\u001b[39m))\n\u001b[0;32m     <a href='vscode-notebook-cell:/c%3A/Users/artur/Documents/GitHub/spotify-artist-tracker/src/artists-api.ipynb#X43sZmlsZQ%3D%3D?line=14'>15</a>\u001b[0m     artists_fields \u001b[39m=\u001b[39m [\n\u001b[1;32m---> <a href='vscode-notebook-cell:/c%3A/Users/artur/Documents/GitHub/spotify-artist-tracker/src/artists-api.ipynb#X43sZmlsZQ%3D%3D?line=15'>16</a>\u001b[0m         artist\u001b[39m.\u001b[39;49mmain_artist,\n\u001b[0;32m     <a href='vscode-notebook-cell:/c%3A/Users/artur/Documents/GitHub/spotify-artist-tracker/src/artists-api.ipynb#X43sZmlsZQ%3D%3D?line=16'>17</a>\u001b[0m         artist\u001b[39m.\u001b[39mid,\n\u001b[0;32m     <a href='vscode-notebook-cell:/c%3A/Users/artur/Documents/GitHub/spotify-artist-tracker/src/artists-api.ipynb#X43sZmlsZQ%3D%3D?line=17'>18</a>\u001b[0m         artist\u001b[39m.\u001b[39mname,\n\u001b[0;32m     <a href='vscode-notebook-cell:/c%3A/Users/artur/Documents/GitHub/spotify-artist-tracker/src/artists-api.ipynb#X43sZmlsZQ%3D%3D?line=18'>19</a>\u001b[0m         artist\u001b[39m.\u001b[39mpopularity,\n\u001b[0;32m     <a href='vscode-notebook-cell:/c%3A/Users/artur/Documents/GitHub/spotify-artist-tracker/src/artists-api.ipynb#X43sZmlsZQ%3D%3D?line=19'>20</a>\u001b[0m         artist\u001b[39m.\u001b[39mgenres,\n\u001b[0;32m     <a href='vscode-notebook-cell:/c%3A/Users/artur/Documents/GitHub/spotify-artist-tracker/src/artists-api.ipynb#X43sZmlsZQ%3D%3D?line=20'>21</a>\u001b[0m         artist\u001b[39m.\u001b[39mrelations,\n\u001b[0;32m     <a href='vscode-notebook-cell:/c%3A/Users/artur/Documents/GitHub/spotify-artist-tracker/src/artists-api.ipynb#X43sZmlsZQ%3D%3D?line=21'>22</a>\u001b[0m         \u001b[39m\"\u001b[39m\u001b[39m,\u001b[39m\u001b[39m\"\u001b[39m\u001b[39m.\u001b[39mjoin(relations)\n\u001b[0;32m     <a href='vscode-notebook-cell:/c%3A/Users/artur/Documents/GitHub/spotify-artist-tracker/src/artists-api.ipynb#X43sZmlsZQ%3D%3D?line=22'>23</a>\u001b[0m     ]\n\u001b[0;32m     <a href='vscode-notebook-cell:/c%3A/Users/artur/Documents/GitHub/spotify-artist-tracker/src/artists-api.ipynb#X43sZmlsZQ%3D%3D?line=24'>25</a>\u001b[0m     writer\u001b[39m.\u001b[39mwriterow(artists_fields)\n\u001b[0;32m     <a href='vscode-notebook-cell:/c%3A/Users/artur/Documents/GitHub/spotify-artist-tracker/src/artists-api.ipynb#X43sZmlsZQ%3D%3D?line=26'>27</a>\u001b[0m \u001b[39mprint\u001b[39m(\u001b[39mf\u001b[39m\u001b[39m\"\u001b[39m\u001b[39mUsers information saved to \u001b[39m\u001b[39m{\u001b[39;00mfile_name\u001b[39m}\u001b[39;00m\u001b[39m\"\u001b[39m)\n",
      "\u001b[1;31mAttributeError\u001b[0m: 'str' object has no attribute 'main_artist'"
     ]
    }
   ],
   "source": [
    "generating_data(\"teste\")"
   ]
  },
  {
   "cell_type": "code",
   "execution_count": null,
   "metadata": {},
   "outputs": [],
   "source": []
  }
 ],
 "metadata": {
  "kernelspec": {
   "display_name": "Python 3",
   "language": "python",
   "name": "python3"
  },
  "language_info": {
   "codemirror_mode": {
    "name": "ipython",
    "version": 3
   },
   "file_extension": ".py",
   "mimetype": "text/x-python",
   "name": "python",
   "nbconvert_exporter": "python",
   "pygments_lexer": "ipython3",
   "version": "3.9.16"
  }
 },
 "nbformat": 4,
 "nbformat_minor": 2
}
